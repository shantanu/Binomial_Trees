{
 "cells": [
  {
   "cell_type": "markdown",
   "metadata": {},
   "source": [
    "# Valuing Options Using Multi-Period Binomial Tree Model\n",
    "### Shantanu Laghate\n",
    "\n",
    "### Hacker Hour - Financial Programming (Part 1)\n",
    "\n",
    "### Feb 15, 2019\n",
    "\n",
    "Model Calibrated using Amazon Data from Jan 1st 2015 - Jan 1st 2018 using the Black-Scholes assumption of constant returns"
   ]
  },
  {
   "cell_type": "code",
   "execution_count": null,
   "metadata": {},
   "outputs": [],
   "source": [
    "import quandl\n",
    "import matplotlib as pyplot\n",
    "import pandas as pd\n",
    "import numpy as np\n",
    "\n",
    "with open(\"key.txt\") as key:\n",
    "    quandl.ApiConfig.api_key = key.read()"
   ]
  },
  {
   "cell_type": "markdown",
   "metadata": {},
   "source": [
    "## Downloading Amazon Data \n",
    "\n",
    "Closing stock price data from Jan 1 2015 - Jan 1 2018 is used."
   ]
  },
  {
   "cell_type": "code",
   "execution_count": null,
   "metadata": {},
   "outputs": [],
   "source": [
    "data = quandl.get(\"WIKI/AMZN\", start_date=\"2015-01-01\", end_date=\"2018-01-01\")\n",
    "data.head()"
   ]
  },
  {
   "cell_type": "code",
   "execution_count": null,
   "metadata": {},
   "outputs": [],
   "source": [
    "data[\"Close\"].plot()\n",
    "# During this 3-year period, the Amazon stock almost tripled in price. This has a marked impact on our model, as shown below."
   ]
  },
  {
   "cell_type": "markdown",
   "metadata": {},
   "source": [
    "## Calculating Percentage Returns\n",
    "\n",
    "Returns are calculated by through the formula:\n",
    "\n",
    "$\\frac{\\Delta S}{S} = \\frac{S_{i}}{S_{i-1}} - 1$\n",
    "\n",
    "After this is generated, the expected daily expected return is simply the mean of this array, and the daily volatility is the standard deviation of this array. In this case, $\\Delta T = 1$.\n",
    "\n",
    "To find the monthly expected returns, $\\Delta T$ increases to 21 trading days per month. For yearly, $\\Delta T = 252$. The daily expected returns are simply multiplied by $\\Delta T$ to obtain these values.\n",
    "\n",
    "For volatility over a longer period of time, the daily value must be multiplied by $\\sqrt{\\Delta T}$. "
   ]
  },
  {
   "cell_type": "code",
   "execution_count": null,
   "metadata": {},
   "outputs": [],
   "source": [
    "close = data[\"Close\"]\n",
    "returns = (close/close.shift(1)) - 1\n",
    "returns.plot()"
   ]
  },
  {
   "cell_type": "code",
   "execution_count": null,
   "metadata": {},
   "outputs": [],
   "source": [
    "\n",
    "print(\"Daily Expected Returns: \", returns.mean())\n",
    "print(\"Monthly Expected Returns: \", returns.mean()*21)\n",
    "print(\"Yearly Expected Returns: \", returns.mean()*252)\n",
    "\n",
    "print()\n",
    "\n",
    "print(\"Daily Volatility: \", returns.std())\n",
    "print(\"Monthly Volatility: \", returns.std()*np.sqrt(21))\n",
    "print(\"Yearly Volatility: \", returns.std()*np.sqrt(252))"
   ]
  },
  {
   "cell_type": "markdown",
   "metadata": {},
   "source": [
    "## Creating the Multi-period Binomial Model\n",
    "\n",
    "To calibrate a binomial model, we must first specify a time step. For this first model, let's use a daily time step, $\\Delta T = 1$. Let's also assume that $r = 1$, which is somewhat unrealistic since the 1-year risk free rate increased from 0.25% to 1.8% during the indicated time period, but this will simplify calculations.\n",
    "\n",
    "$u = e^{\\sigma \\sqrt{\\Delta T}}$ and $d = e^{-\\sigma \\sqrt{\\Delta T}}$. These values are first calculated.\n",
    "\n",
    "Then we can calculate the risk-neutral probability $p = \\frac{e^{r \\Delta T} - d}{u - d}$\n",
    "\n",
    "The starting price of the model is assumed to be today's (11/8/18) price: \\$ 1754.91"
   ]
  },
  {
   "cell_type": "code",
   "execution_count": null,
   "metadata": {},
   "outputs": [],
   "source": [
    "u = np.exp(returns.std())\n",
    "d = np.exp(-returns.std())\n",
    "print(\"u = \", u)\n",
    "print(\"d = \", d)"
   ]
  },
  {
   "cell_type": "code",
   "execution_count": null,
   "metadata": {},
   "outputs": [],
   "source": [
    "p = (np.exp(1/252) - d)/(u - d)\n",
    "p"
   ]
  },
  {
   "cell_type": "code",
   "execution_count": null,
   "metadata": {},
   "outputs": [],
   "source": [
    "n = len(close)\n",
    "tree = np.zeros((n, n))\n",
    "tree[0][0] = 1636.39\n",
    "for i in range(1, n):\n",
    "    tree[0][i] = tree[0][i-1]*u\n",
    "\n",
    "for i in range(1, n):\n",
    "    for j in range(i, n):\n",
    "        tree[i][j] = tree[i-1][j-1]*d\n",
    "print(tree[:3, -3:])"
   ]
  },
  {
   "cell_type": "markdown",
   "metadata": {},
   "source": [
    "## Options Pricing with the Binomial Model\n"
   ]
  },
  {
   "cell_type": "code",
   "execution_count": null,
   "metadata": {},
   "outputs": [],
   "source": [
    "# Call Option\n",
    "k = 2100\n",
    "t = 30\n",
    "actual_price = 4.90\n",
    "\n",
    "def call(s, k):\n",
    "    return max(0, s - k)\n",
    "\n",
    "\n",
    "otree = np.zeros((t+1, t+1))\n",
    "for i in range(t+1):\n",
    "    otree[i][t] = call(tree[i][t], k)\n",
    "\n",
    "    \n",
    "#print(tree[:6, :6])\n",
    "\n",
    "\n",
    "\n",
    "for i in range(t-1, -1, -1):\n",
    "    for j in range(i+1):\n",
    "        otree[j][i] = max(p*otree[j][i+1] + (1-p)*otree[j+1][i+1], call(tree[j][i], k))\n",
    "#print(otree)\n",
    "print(otree[0][0])"
   ]
  },
  {
   "cell_type": "code",
   "execution_count": null,
   "metadata": {},
   "outputs": [],
   "source": [
    "# Put Option\n",
    "k = 1720\n",
    "t = 162\n",
    "actual_price = 4.90\n",
    "\n",
    "def put(s, k):\n",
    "    return max(0, k - s)\n",
    "\n",
    "np.set_printoptions(precision=2)\n",
    "otree = np.zeros((t+1, t+1))\n",
    "for i in range(t+1):\n",
    "    otree[i][t] = put(tree[i][t], k)\n",
    "#print(tree[:6, :6])\n",
    "for i in range(t-1, -1, -1):\n",
    "    for j in range(i+1):\n",
    "        otree[j][i] = max(p*otree[j][i+1] + (1-p)*otree[j+1][i+1], 0)\n",
    "#print(otree)\n",
    "print(otree[0][0])"
   ]
  },
  {
   "cell_type": "markdown",
   "metadata": {},
   "source": [
    "### Calls \n",
    "Amazon Calls:\n",
    "\n",
    "| Expiry | Strike | Market Price | Model Prediction |\n",
    "|:------:|:-:|:-:|:-:|\n",
    "| 11/16/18 | 1700.00 | 56.80 | 100.96 |\n",
    "| 12/21/18 | 2100.00 | 4.90 | 30.57 |\n",
    "| 6/22/19  | 1720.00  |  220.00 | 1808.55  |\n",
    "\n",
    "Theoretically, there is no benefit of early exercise of an american call option, so the model predicts the same price for both european and american calls.\n",
    "\n",
    "### Puts\n",
    "Amazon Puts:\n",
    "\n",
    "| Expiry | Strike | Market Price | Model Prediction (Euro) | Model Prediction (American) |\n",
    "|:------:|:-:|:-:|:-:|:-:|\n",
    "| 11/16/18 | 1700.00 | 15.54 | 3.77 | 4.53 | \n",
    "| 12/21/18 | 2100.00 | 430.83 | 153.80 | 345.08 |\n",
    "| 6/22/19  | 1720.00  |  155.36 | 0.27 | 15.87 |\n",
    "\n",
    "\n",
    "As you can see, the model prediction is widely off the market price. There is a tendency to massively over-value calls, and massively under-value puts. One reason for this is because the risk neutral probability $p = 0.6$, which means that there is a higher likelihood of the stock price increasing. The model is influenced very heavily by the strong upward movement of the stock price during 2015-2018. As mentioned above, the price almost tripled.\n",
    "\n",
    "This sways calls to be priced much higher in the model since there is a belief that the price of the stock will go higher, and puts to be priced lower, since the price of the stock will not go down by much.\n"
   ]
  },
  {
   "cell_type": "code",
   "execution_count": null,
   "metadata": {},
   "outputs": [],
   "source": []
  }
 ],
 "metadata": {
  "kernelspec": {
   "display_name": "Python 3",
   "language": "python",
   "name": "python3"
  },
  "language_info": {
   "codemirror_mode": {
    "name": "ipython",
    "version": 3
   },
   "file_extension": ".py",
   "mimetype": "text/x-python",
   "name": "python",
   "nbconvert_exporter": "python",
   "pygments_lexer": "ipython3",
   "version": "3.6.5"
  }
 },
 "nbformat": 4,
 "nbformat_minor": 2
}
