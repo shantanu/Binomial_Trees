{
 "cells": [
  {
   "cell_type": "markdown",
   "metadata": {},
   "source": [
    "# One Period Binomial Model Call Option Price Prediction\n",
    "\n",
    "### Shantanu Laghate\n",
    "\n",
    "### Hacker Hour - Financial Programming (Part 1)\n",
    "\n",
    "### Feb 15, 2019\n",
    "\n",
    "Model calibrated on 3 TSLA calls on Feb 6, 2018 with Strikes 310, 315, 325 with expiry on Mar 22, 2019"
   ]
  },
  {
   "cell_type": "code",
   "execution_count": 17,
   "metadata": {
    "colab": {},
    "colab_type": "code",
    "id": "J3PKNj1K4oJE"
   },
   "outputs": [],
   "source": [
    "import numpy as np"
   ]
  },
  {
   "cell_type": "markdown",
   "metadata": {},
   "source": [
    "# Set Initial Conditions\n",
    "3 TSLA options with expiry Mar 22, 2019 (~2 months from now), with the current stock price at $319.02. \n",
    "Ki, V0i represents the strike price and the present market ask price for each option."
   ]
  },
  {
   "cell_type": "code",
   "execution_count": 30,
   "metadata": {
    "colab": {},
    "colab_type": "code",
    "id": "hMNypLYh4xXB"
   },
   "outputs": [],
   "source": [
    "T = 1/6.0\n",
    "S0 = 319.02\n",
    "# Option 1: 280 call, $33.10\n",
    "# Option 2: 275 call, $35.95\n",
    "# Option 3: 270 call, $39.00\n",
    "\n",
    "K1 = 315.00\n",
    "V01 = 24.00\n",
    "\n",
    "K2 = 310.00\n",
    "V02 = 26.90\n",
    "\n",
    "K3 = 325.00\n",
    "V03 = 18.65"
   ]
  },
  {
   "cell_type": "markdown",
   "metadata": {},
   "source": [
    "# Define Pricing Functions\n",
    "\n",
    "For a call option, V(u) = max(S0*u - K, 0), and V(d) = max(S0*d - K, 0). We substitute this into the one-period pricing binomial model, and subtract V_0 from the prediction to find the difference. Ideally, u, d, and r should be set so all 3 of these differences will be 0. "
   ]
  },
  {
   "cell_type": "code",
   "execution_count": 31,
   "metadata": {
    "colab": {},
    "colab_type": "code",
    "id": "d78eMpVC_dQb"
   },
   "outputs": [],
   "source": [
    "def e1(u, d, r, strike, realprice):\n",
    "    Vu = max(S0*u - strike, 0)\n",
    "    Vd = max(S0*d - strike, 0)\n",
    "    ert = np.exp(-1*r*T)\n",
    "    p = (ert - d)/(u-d)\n",
    "    \n",
    "    return ert*(Vu*p + Vd*(1-p)) - realprice"
   ]
  },
  {
   "cell_type": "markdown",
   "metadata": {},
   "source": [
    "# Solving for u, d, r\n",
    "\n",
    "All symbolic toolbox methods of solving this system didn't work (highly nonlinear and unusual), so I resorted to iteration through possible values. I set the threshold to 0.1 (meaning all three predicted prices must be within 10 cents of market price), and tried 100 values between [0.5, 1.5] for u and d, and [0, 0.03] for r. More than 100 values would have provided a more accurate result, but was running for too long. \n",
    "\n",
    "There were a few values that matched, and I fixed u = 1.176 and d = 0.7424. Since the r value varied widely, the next step was to find a more accurate value."
   ]
  },
  {
   "cell_type": "code",
   "execution_count": 34,
   "metadata": {
    "colab": {
     "base_uri": "https://localhost:8080/",
     "height": 274
    },
    "colab_type": "code",
    "id": "Eu41irM49CII",
    "outputId": "0aaea756-c393-49d7-91d0-a95f92276fb5"
   },
   "outputs": [
    {
     "name": "stdout",
     "output_type": "stream",
     "text": [
      "1.1262626262626263 0.8383838383838385 0.026161616161616157\n",
      "1.1262626262626263 0.8383838383838385 0.02636363636363636\n",
      "1.1262626262626263 0.8383838383838385 0.026565656565656563\n",
      "1.1262626262626263 0.8434343434343434 0.014242424242424242\n",
      "1.1262626262626263 0.8434343434343434 0.014444444444444444\n",
      "1.1262626262626263 0.8434343434343434 0.014646464646464647\n"
     ]
    }
   ],
   "source": [
    "threshold = 0.1\n",
    "for i in np.linspace(1, 1.5, 100):\n",
    "    for j in np.linspace(0.5, 1, 100):\n",
    "        for k in np.linspace(0.01, 0.03, 100):\n",
    "            if (i > j \n",
    "                and abs(e1(i, j, k, K1, V01)) < threshold \n",
    "                and abs(e1(i, j, k, K2, V02)) < threshold \n",
    "                and abs(e1(i, j, k, K3, V03)) < threshold):\n",
    "                \n",
    "                print(i, j, k)\n",
    "  "
   ]
  },
  {
   "cell_type": "markdown",
   "metadata": {},
   "source": [
    "# Finding a precise r value\n",
    "\n",
    "We can again iterate through possible r values to find what results in a close fit. For the final answer, I found that r=0.0142 was a good average."
   ]
  },
  {
   "cell_type": "code",
   "execution_count": 38,
   "metadata": {
    "colab": {
     "base_uri": "https://localhost:8080/",
     "height": 68
    },
    "colab_type": "code",
    "id": "RTwIroCuBQEv",
    "outputId": "cf0428f3-7c02-405f-9cb4-6b7dd954519b",
    "scrolled": true
   },
   "outputs": [
    {
     "name": "stdout",
     "output_type": "stream",
     "text": [
      "Average: 0.02634634634634634\n"
     ]
    }
   ],
   "source": [
    "# from here, we find that u = 1.1767, d = 0.7424. Now we must find the most exact implied r:\n",
    "threshold = 0.1 # somewhat arbitrary (smaller values didn't give any results)\n",
    "U = 1.1262\n",
    "D = 0.8383\n",
    "sums = 0\n",
    "count = 0\n",
    "for k in np.linspace(0.01, 0.03, 1000):\n",
    "    if (abs(e1(U, D, k, K1, V01)) < threshold \n",
    "        and abs(e1(U, D, k, K2, V02)) < threshold \n",
    "        and abs(e1(U, D, k, K3, V03)) < threshold):\n",
    "        sums += k\n",
    "        count += 1\n",
    "print(\"Average:\", sums/count)\n",
    "R = sums/count"
   ]
  },
  {
   "cell_type": "markdown",
   "metadata": {},
   "source": [
    "# Call option price predictor function\n",
    "We have now calibrated our model for values of u, d, and r. Assuming S0 and T stay the same, we can now calculate the predicted prices for different strike prices using the binomial model. A sample list of values is given below:"
   ]
  },
  {
   "cell_type": "code",
   "execution_count": 39,
   "metadata": {
    "colab": {
     "base_uri": "https://localhost:8080/",
     "height": 34
    },
    "colab_type": "code",
    "id": "XSUTge9eCwLY",
    "outputId": "d821e2d8-1e14-485b-d26b-fbb69615544c"
   },
   "outputs": [
    {
     "name": "stdout",
     "output_type": "stream",
     "text": [
      "200 117.10688211700153\n",
      "210 107.15069642826046\n",
      "220 97.19451073951939\n",
      "230 87.23832505077831\n",
      "240 77.28213936203723\n",
      "250 67.32595367329615\n",
      "260 57.3697679845551\n",
      "270 48.572120931643425\n",
      "280 43.13171494346136\n",
      "290 37.69130895527931\n",
      "300 32.250902967097254\n",
      "310 26.810496978915197\n",
      "320 21.37009099073314\n",
      "330 15.929685002551082\n",
      "340 10.489279014369027\n",
      "350 5.048873026186969\n",
      "360 0.0\n",
      "370 0.0\n",
      "380 0.0\n",
      "390 0.0\n"
     ]
    }
   ],
   "source": [
    "## Let's take r = 0.0142, the average value from the above list.\n",
    "#R = 0.0265\n",
    "def call_predict(strike):\n",
    "    Vu = max(S0*U - strike, 0)\n",
    "    Vd = max(S0*D - strike, 0)\n",
    "    ert = np.exp(-1*R*T)\n",
    "    p = (ert - D)/(U-D)\n",
    "    \n",
    "    return ert*(Vu*p + Vd*(1-p))\n",
    "\n",
    "for i in np.arange(200, 400, 10):\n",
    "    print(i, call_predict(i))"
   ]
  },
  {
   "cell_type": "code",
   "execution_count": null,
   "metadata": {
    "colab": {},
    "colab_type": "code",
    "id": "vvFWbyZGFFmn"
   },
   "outputs": [],
   "source": []
  }
 ],
 "metadata": {
  "colab": {
   "name": "M485 HW2.ipynb",
   "provenance": [],
   "version": "0.3.2"
  },
  "kernelspec": {
   "display_name": "Python 3",
   "language": "python",
   "name": "python3"
  },
  "language_info": {
   "codemirror_mode": {
    "name": "ipython",
    "version": 3
   },
   "file_extension": ".py",
   "mimetype": "text/x-python",
   "name": "python",
   "nbconvert_exporter": "python",
   "pygments_lexer": "ipython3",
   "version": "3.6.5"
  }
 },
 "nbformat": 4,
 "nbformat_minor": 1
}
